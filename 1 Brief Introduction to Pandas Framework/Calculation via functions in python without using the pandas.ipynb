{
 "cells": [
  {
   "cell_type": "code",
   "execution_count": 10,
   "metadata": {},
   "outputs": [],
   "source": [
    "__parsed_rows = []\n",
    "\n",
    "def parse_csv():\n",
    "    import csv\n",
    "    __index = {\n",
    "        'date': 0,\n",
    "        'temperature': 1,\n",
    "        'DewPoint': 2,\n",
    "        'Humidity': 3,\n",
    "        'Sea_Level_PressureIn': 4,\n",
    "        'VisibilityMiles': 5,\n",
    "        'WindSpeedMPH': 6,\n",
    "        'PrecipitationIn': 7,\n",
    "        'CloudCover': 8,\n",
    "        'Events' : 9,\n",
    "        'WindDirDegrees': 10\n",
    "    }\n",
    "    global __parsed_rows\n",
    "    with open('nyc_weather.csv', \"r\") as f:\n",
    "        reader = csv.reader(f)\n",
    "        next(reader, None)\n",
    "        for row in reader:\n",
    "            __parsed_rows.append({\n",
    "                'date':  row[__index['date']],\n",
    "                'temperature': row[__index['temperature']],\n",
    "                'DewPoint': row[__index['DewPoint']],\n",
    "                'Humidity': row[__index['Humidity']],\n",
    "                'Sea_Level_PressureIn': row[__index['Sea_Level_PressureIn']],\n",
    "                'VisibilityMiles': row[__index['VisibilityMiles']],\n",
    "                'WindSpeedMPH': row[__index['WindSpeedMPH']],\n",
    "                'PrecipitationIn': row[__index['PrecipitationIn']],\n",
    "                'CloudCover': row[__index['CloudCover']],\n",
    "                'Events': row[__index['Events']],\n",
    "                'WindDirDegrees': row[__index['WindDirDegrees']]\n",
    "            })\n",
    "\n",
    "    "
   ]
  },
  {
   "cell_type": "code",
   "execution_count": 11,
   "metadata": {},
   "outputs": [],
   "source": [
    "def get_days_for_event(event_name):\n",
    "    days = []\n",
    "    for row in __parsed_rows:\n",
    "        if row['Events'] == event_name:\n",
    "            days.append(row['date'])\n",
    "    return days"
   ]
  },
  {
   "cell_type": "code",
   "execution_count": 12,
   "metadata": {},
   "outputs": [],
   "source": [
    "def get_max_temperature():\n",
    "    max_temp = 0\n",
    "    for row in __parsed_rows:\n",
    "        if int(row['temperature']) > max_temp:\n",
    "            max_temp = int(row['temperature'])\n",
    "    return max_temp"
   ]
  },
  {
   "cell_type": "code",
   "execution_count": 13,
   "metadata": {},
   "outputs": [],
   "source": [
    "def get_average_wind_speed():\n",
    "    total = 0\n",
    "    count = 0\n",
    "    for row in __parsed_rows:\n",
    "        speed = 0 if row['WindSpeedMPH']=='' else int(row['WindSpeedMPH'])\n",
    "        total += speed\n",
    "        count+=1\n",
    "    return total/count"
   ]
  },
  {
   "cell_type": "code",
   "execution_count": 14,
   "metadata": {},
   "outputs": [
    {
     "name": "stdout",
     "output_type": "stream",
     "text": [
      "Max temperature is:  50\n",
      "Days of rain:  ['1/9/2016', '1/10/2016', '1/16/2016', '1/27/2016']\n",
      "Average wind speed is:  6.225806451612903\n"
     ]
    }
   ],
   "source": [
    "if __name__==\"__main__\":\n",
    "    parse_csv()\n",
    "\n",
    "    print(\"Max temperature is: \",get_max_temperature())\n",
    "    print (\"Days of rain: \", get_days_for_event('Rain'))\n",
    "    print(\"Average wind speed is: \", get_average_wind_speed())"
   ]
  },
  {
   "cell_type": "markdown",
   "metadata": {},
   "source": [
    "A good way to brush up your Python skills and dive into the world of Data Analysis, Right? Well, Let's get going. A long way to go and it's just the start. "
   ]
  },
  {
   "cell_type": "code",
   "execution_count": null,
   "metadata": {},
   "outputs": [],
   "source": []
  }
 ],
 "metadata": {
  "kernelspec": {
   "display_name": "Python 3",
   "language": "python",
   "name": "python3"
  },
  "language_info": {
   "codemirror_mode": {
    "name": "ipython",
    "version": 3
   },
   "file_extension": ".py",
   "mimetype": "text/x-python",
   "name": "python",
   "nbconvert_exporter": "python",
   "pygments_lexer": "ipython3",
   "version": "3.8.5"
  }
 },
 "nbformat": 4,
 "nbformat_minor": 4
}
